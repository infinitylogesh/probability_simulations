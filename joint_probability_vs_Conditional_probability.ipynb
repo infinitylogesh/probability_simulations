{
  "nbformat": 4,
  "nbformat_minor": 0,
  "metadata": {
    "colab": {
      "name": "joint_probability vs Conditional_probability.ipynb",
      "version": "0.3.2",
      "provenance": [],
      "include_colab_link": true
    },
    "kernelspec": {
      "name": "python3",
      "display_name": "Python 3"
    }
  },
  "cells": [
    {
      "cell_type": "markdown",
      "metadata": {
        "id": "view-in-github",
        "colab_type": "text"
      },
      "source": [
        "<a href=\"https://colab.research.google.com/github/infinitylogesh/probability_simulations/blob/master/joint_probability_vs_Conditional_probability.ipynb\" target=\"_parent\"><img src=\"https://colab.research.google.com/assets/colab-badge.svg\" alt=\"Open In Colab\"/></a>"
      ]
    },
    {
      "cell_type": "code",
      "metadata": {
        "id": "papzQOeGohrw",
        "colab_type": "code",
        "colab": {}
      },
      "source": [
        "import numpy as np"
      ],
      "execution_count": 0,
      "outputs": []
    },
    {
      "cell_type": "markdown",
      "metadata": {
        "id": "QsDKJj-buxhh",
        "colab_type": "text"
      },
      "source": [
        "**Conditional Probability**\n",
        "\n",
        "Given that the card is red. What is the probability of getting a 6 ?\n",
        "\n",
        "P(6|RED) = 2/26 = 1/13"
      ]
    },
    {
      "cell_type": "code",
      "metadata": {
        "id": "55rSe0zjYZy3",
        "colab_type": "code",
        "colab": {
          "base_uri": "https://localhost:8080/",
          "height": 51
        },
        "outputId": "475650a6-3b7e-4f72-f853-68148b4760b7"
      },
      "source": [
        "i = 0 \n",
        "trials = 500000\n",
        "exp_outcomes = [6,12] # Equally likely 2 outcomes - TO simulate draw of red card with 6 \n",
        "for _ in range(trials):\n",
        "  x = np.random.randint(1,26)\n",
        "  if x in exp_outcomes:\n",
        "    i+=1\n",
        "\n",
        "print(\" Probability from the simulation {}\".format(i/trials))\n",
        "print(\" Probability from the formula {}\".format(1/13))"
      ],
      "execution_count": 56,
      "outputs": [
        {
          "output_type": "stream",
          "text": [
            " Probability from the simulation 0.07977\n",
            " Probability from the formula 0.07692307692307693\n"
          ],
          "name": "stdout"
        }
      ]
    },
    {
      "cell_type": "markdown",
      "metadata": {
        "id": "nhc5WttSVuFR",
        "colab_type": "text"
      },
      "source": [
        "**Joint Probability**\n",
        "\n",
        "Joint probability of getting red and 6\n",
        "\n",
        "P(6,RED) = P(6|RED)*P(RED) = 2/26*1/2  = 1/26"
      ]
    },
    {
      "cell_type": "code",
      "metadata": {
        "id": "f24xkpd0om6s",
        "colab_type": "code",
        "colab": {
          "base_uri": "https://localhost:8080/",
          "height": 51
        },
        "outputId": "7898cba1-174d-451a-d1f8-613d97e1b5e1"
      },
      "source": [
        "i = 0 \n",
        "trials = 500000\n",
        "for _ in range(trials):\n",
        "  exp_outcomes = [6,12,18,24] # Equally likely 4 outcomes - TO simulate draw of card with 6 \n",
        "  x = np.random.randint(1,52)\n",
        "  y = np.random.randint(1,52)\n",
        "  if x <= 26 and y in exp_outcomes:\n",
        "    i+=1\n",
        "\n",
        "print(\" Probability from the simulation {}\".format(i/trials))\n",
        "print(\" Probability from the formula {}\".format(1/26))"
      ],
      "execution_count": 49,
      "outputs": [
        {
          "output_type": "stream",
          "text": [
            " Probability from the simulation 0.04004\n",
            " Probability from the formula 0.038461538461538464\n"
          ],
          "name": "stdout"
        }
      ]
    }
  ]
}